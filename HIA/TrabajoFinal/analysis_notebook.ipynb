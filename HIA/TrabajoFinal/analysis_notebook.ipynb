{
 "cells": [
  {
   "cell_type": "markdown",
   "id": "a5160b11",
   "metadata": {},
   "source": [
    "# Análisis de Ventas: CSV + SQL + Visualización"
   ]
  },
  {
   "cell_type": "code",
   "execution_count": null,
   "id": "3b6850d3",
   "metadata": {},
   "outputs": [],
   "source": [
    "import pandas as pd\n",
    "import sqlite3\n",
    "import matplotlib.pyplot as plt\n",
    "from bokeh.plotting import figure, show, output_notebook\n",
    "from dataprep.eda import create_report\n",
    "\n",
    "# Activar salida interactiva en Bokeh\n",
    "output_notebook()\n"
   ]
  },
  {
   "cell_type": "markdown",
   "id": "8f55fed5",
   "metadata": {},
   "source": [
    "## 1. Cargar dataset desde CSV"
   ]
  },
  {
   "cell_type": "code",
   "execution_count": null,
   "id": "6fe0938a",
   "metadata": {},
   "outputs": [],
   "source": [
    "df = pd.read_csv(\"sales_data.csv\")\n",
    "df.dropna(inplace=True)\n",
    "df.head()"
   ]
  },
  {
   "cell_type": "markdown",
   "id": "e10fe12d",
   "metadata": {},
   "source": [
    "## 2. Crear base de datos SQLite e insertar los datos"
   ]
  },
  {
   "cell_type": "code",
   "execution_count": null,
   "id": "7c9595de",
   "metadata": {},
   "outputs": [],
   "source": [
    "conn = sqlite3.connect(\"sales.db\")\n",
    "df.to_sql(\"sales\", conn, if_exists=\"replace\", index=False)"
   ]
  },
  {
   "cell_type": "markdown",
   "id": "e14facf0",
   "metadata": {},
   "source": [
    "## 3. Consultar datos desde SQLite con Pandas"
   ]
  },
  {
   "cell_type": "code",
   "execution_count": null,
   "id": "51642f05",
   "metadata": {},
   "outputs": [],
   "source": [
    "query = '''\n",
    "SELECT City, SUM(Quantity_Ordered * Price_Each) as Total_Sales\n",
    "FROM sales\n",
    "GROUP BY City\n",
    "'''\n",
    "df_sql = pd.read_sql_query(query, conn)\n",
    "df_sql"
   ]
  },
  {
   "cell_type": "markdown",
   "id": "67a6edd4",
   "metadata": {},
   "source": [
    "## 4. Visualización con Matplotlib"
   ]
  },
  {
   "cell_type": "code",
   "execution_count": null,
   "id": "76f56e76",
   "metadata": {},
   "outputs": [],
   "source": [
    "df_sql.plot(kind='bar', x='City', y='Total_Sales', title='Ventas por Ciudad')\n",
    "plt.ylabel('Ventas Totales')\n",
    "plt.show()"
   ]
  },
  {
   "cell_type": "markdown",
   "id": "f43c212f",
   "metadata": {},
   "source": [
    "## 5. Visualización con Bokeh"
   ]
  },
  {
   "cell_type": "code",
   "execution_count": null,
   "id": "c245a616",
   "metadata": {},
   "outputs": [],
   "source": [
    "p = figure(x_range=df_sql['City'], height=350, title=\"Ventas por Ciudad (Bokeh)\")\n",
    "p.vbar(x=df_sql['City'], top=df_sql['Total_Sales'], width=0.9)\n",
    "show(p)"
   ]
  },
  {
   "cell_type": "markdown",
   "id": "14e611e4",
   "metadata": {},
   "source": [
    "## 6. Visualización exploratoria con PyWalker (DataPrep)"
   ]
  },
  {
   "cell_type": "code",
   "execution_count": null,
   "id": "6b66af0f",
   "metadata": {},
   "outputs": [],
   "source": [
    "create_report(df)"
   ]
  }
 ],
 "metadata": {},
 "nbformat": 4,
 "nbformat_minor": 5
}