{
  "nbformat": 4,
  "nbformat_minor": 0,
  "metadata": {
    "colab": {
      "provenance": []
    },
    "kernelspec": {
      "name": "python3",
      "display_name": "Python 3"
    },
    "language_info": {
      "name": "python"
    }
  },
  "cells": [
    {
      "cell_type": "code",
      "execution_count": 3,
      "metadata": {
        "colab": {
          "base_uri": "https://localhost:8080/"
        },
        "id": "RZ5Kd3r3RkXH",
        "outputId": "d3926056-7595-45db-a6da-0d4cf21ca344"
      },
      "outputs": [
        {
          "output_type": "stream",
          "name": "stdout",
          "text": [
            "Requirement already satisfied: bokeh in /usr/local/lib/python3.11/dist-packages (3.7.3)\n",
            "Requirement already satisfied: Jinja2>=2.9 in /usr/local/lib/python3.11/dist-packages (from bokeh) (3.1.6)\n",
            "Requirement already satisfied: contourpy>=1.2 in /usr/local/lib/python3.11/dist-packages (from bokeh) (1.3.2)\n",
            "Requirement already satisfied: narwhals>=1.13 in /usr/local/lib/python3.11/dist-packages (from bokeh) (1.39.0)\n",
            "Requirement already satisfied: numpy>=1.16 in /usr/local/lib/python3.11/dist-packages (from bokeh) (2.0.2)\n",
            "Requirement already satisfied: packaging>=16.8 in /usr/local/lib/python3.11/dist-packages (from bokeh) (24.2)\n",
            "Requirement already satisfied: pandas>=1.2 in /usr/local/lib/python3.11/dist-packages (from bokeh) (2.2.2)\n",
            "Requirement already satisfied: pillow>=7.1.0 in /usr/local/lib/python3.11/dist-packages (from bokeh) (11.2.1)\n",
            "Requirement already satisfied: PyYAML>=3.10 in /usr/local/lib/python3.11/dist-packages (from bokeh) (6.0.2)\n",
            "Requirement already satisfied: tornado>=6.2 in /usr/local/lib/python3.11/dist-packages (from bokeh) (6.4.2)\n",
            "Requirement already satisfied: xyzservices>=2021.09.1 in /usr/local/lib/python3.11/dist-packages (from bokeh) (2025.4.0)\n",
            "Requirement already satisfied: MarkupSafe>=2.0 in /usr/local/lib/python3.11/dist-packages (from Jinja2>=2.9->bokeh) (3.0.2)\n",
            "Requirement already satisfied: python-dateutil>=2.8.2 in /usr/local/lib/python3.11/dist-packages (from pandas>=1.2->bokeh) (2.9.0.post0)\n",
            "Requirement already satisfied: pytz>=2020.1 in /usr/local/lib/python3.11/dist-packages (from pandas>=1.2->bokeh) (2025.2)\n",
            "Requirement already satisfied: tzdata>=2022.7 in /usr/local/lib/python3.11/dist-packages (from pandas>=1.2->bokeh) (2025.2)\n",
            "Requirement already satisfied: six>=1.5 in /usr/local/lib/python3.11/dist-packages (from python-dateutil>=2.8.2->pandas>=1.2->bokeh) (1.17.0)\n"
          ]
        }
      ],
      "source": [
        "# INSTALACIÓN DE LIBRERIAS\n",
        "!pip install bokeh"
      ]
    },
    {
      "cell_type": "code",
      "source": [
        "# 1. DESCARGA DE ARCHIVOS DESDE GITHUB\n",
        "# ===============================\n",
        "import requests"
      ],
      "metadata": {
        "id": "b7yz0N5TSHMx"
      },
      "execution_count": 4,
      "outputs": []
    },
    {
      "cell_type": "code",
      "source": [
        "# Reemplaza con la URL RAW de tus archivos\n",
        "csv_url = 'https://raw.githubusercontent.com/vfquevedo/utpl/refs/heads/main/HIA/Trabajo_Final/Carseats.csv'\n",
        "sql_url = 'https://raw.githubusercontent.com/vfquevedo/utpl/refs/heads/main/HIA/Trabajo_Final/Carseats.sql'\n",
        "\n",
        "with open(\"Carseats.csv\", \"wb\") as f:\n",
        "    f.write(requests.get(csv_url).content)\n",
        "\n",
        "with open(\"Carseats.sql\", \"wb\") as f:\n",
        "    f.write(requests.get(sql_url).content)"
      ],
      "metadata": {
        "id": "y88_IS75STU-"
      },
      "execution_count": 5,
      "outputs": []
    },
    {
      "cell_type": "code",
      "source": [
        "# 2. CARGA Y UNIÓN DE LOS DATOS\n",
        "# ===============================\n",
        "import pandas as pd\n",
        "import sqlite3\n",
        "\n",
        "df_csv = pd.read_csv(\"Carseats.csv\")\n",
        "\n",
        "conn = sqlite3.connect(\"Carseats.db\")\n",
        "with open(\"Carseats.sql\", \"r\") as f:\n",
        "    conn.executescript(f.read())\n",
        "\n",
        "df_sql = pd.read_sql_query(\"SELECT * FROM carseats\", conn)\n",
        "df = pd.concat([df_csv, df_sql], ignore_index=True).drop_duplicates()"
      ],
      "metadata": {
        "id": "ge_9jMruTf9O"
      },
      "execution_count": 7,
      "outputs": []
    },
    {
      "cell_type": "code",
      "source": [
        "# 3. VISUALIZACIONES\n",
        "# ===============================\n",
        "import matplotlib.pyplot as plt\n",
        "from bokeh.plotting import figure, show, output_notebook\n",
        "\n",
        "output_notebook()"
      ],
      "metadata": {
        "id": "AlQxy0KcUCgs"
      },
      "execution_count": 8,
      "outputs": []
    },
    {
      "cell_type": "code",
      "source": [
        "# Matplotlib: Histograma de precios\n",
        "plt.hist(df[\"Price\"], bins=20, color='skyblue', edgecolor='black')\n",
        "plt.title(\"Distribución de Precios\")\n",
        "plt.xlabel(\"Precio\")\n",
        "plt.ylabel(\"Frecuencia\")\n",
        "plt.grid(True)\n",
        "plt.tight_layout()\n",
        "plt.show()"
      ],
      "metadata": {
        "colab": {
          "base_uri": "https://localhost:8080/",
          "height": 487
        },
        "id": "-UWrRKfbUHsQ",
        "outputId": "ab15fb28-9986-4499-9c2b-ea97db5b1724"
      },
      "execution_count": 9,
      "outputs": [
        {
          "output_type": "display_data",
          "data": {
            "text/plain": [
              "<Figure size 640x480 with 1 Axes>"
            ],
            "image/png": "[encoded data removed]"
          },
          "metadata": {}
        }
      ]
    },
    {
      "cell_type": "code",
      "source": [
        "# Bokeh: Dispersión Precio vs Ventas\n",
        "p = figure(title=\"Precio vs Ventas\", x_axis_label='Precio', y_axis_label='Ventas', height=350)\n",
        "p.circle(df[\"Price\"], df[\"Sales\"], size=6, color=\"navy\", alpha=0.5)\n",
        "show(p)"
      ],
      "metadata": {
        "colab": {
          "base_uri": "https://localhost:8080/",
          "height": 404
        },
        "id": "-7m-k6XhULyt",
        "outputId": "83afcda7-f053-4571-9848-3a7f349ab5e5"
      },
      "execution_count": 10,
      "outputs": [
        {
          "output_type": "stream",
          "name": "stderr",
          "text": [
            "BokehDeprecationWarning: 'circle() method with size value' was deprecated in Bokeh 3.4.0 and will be removed, use 'scatter(size=...) instead' instead.\n"
          ]
        },
        {
          "output_type": "display_data",
          "data": {
            "application/javascript": [
              "'use strict';\n",
              "(function(root) {\n",
              "  function now() {\n",
              "    return new Date();\n",
              "  }\n",
              "\n",
              "  const force = true;\n",
              "\n",
              "  if (typeof root._bokeh_onload_callbacks === \"undefined\" || force === true) {\n",
              "    root._bokeh_onload_callbacks = [];\n",
              "    root._bokeh_is_loading = undefined;\n",
              "  }\n",
              "\n",
              "const JS_MIME_TYPE = 'application/javascript';\n",
              "  const HTML_MIME_TYPE = 'text/html';\n",
              "  const EXEC_MIME_TYPE = 'application/vnd.bokehjs_exec.v0+json';\n",
              "  const CLASS_NAME = 'output_bokeh rendered_html';\n",
              "\n",
              "  /**\n",
              "   * Render data to the DOM node\n",
              "   */\n",
              "  function render(props, node) {\n",
              "    const script = document.createElement(\"script\");\n",
              "    node.appendChild(script);\n",
              "  }\n",
              "\n",
              "  /**\n",
              "   * Handle when an output is cleared or removed\n",
              "   */\n",
              "  function handleClearOutput(event, handle) {\n",
              "    function drop(id) {\n",
              "      const view = Bokeh.index.get_by_id(id)\n",
              "      if (view != null) {\n",
              "        view.model.document.clear()\n",
              "        Bokeh.index.delete(view)\n",
              "      }\n",
              "    }\n",
              "\n",
              "    const cell = handle.cell;\n",
              "\n",
              "    const id = cell.output_area._bokeh_element_id;\n",
              "    const server_id = cell.output_area._bokeh_server_id;\n",
              "\n",
              "    // Clean up Bokeh references\n",
              "    if (id != null) {\n",
              "      drop(id)\n",
              "    }\n",
              "\n",
              "    if (server_id !== undefined) {\n",
              "      // Clean up Bokeh references\n",
              "      const cmd_clean = \"from bokeh.io.state import curstate; print(curstate().uuid_to_server['\" + server_id + \"'].get_sessions()[0].document.roots[0]._id)\";\n",
              "      cell.notebook.kernel.execute(cmd_clean, {\n",
              "        iopub: {\n",
              "          output: function(msg) {\n",
              "            const id = msg.content.text.trim()\n",
              "            drop(id)\n",
              "          }\n",
              "        }\n",
              "      });\n",
              "      // Destroy server and session\n",
              "      const cmd_destroy = \"import bokeh.io.notebook as ion; ion.destroy_server('\" + server_id + \"')\";\n",
              "      cell.notebook.kernel.execute(cmd_destroy);\n",
              "    }\n",
              "  }\n",
              "\n",
              "  /**\n",
              "   * Handle when a new output is added\n",
              "   */\n",
              "  function handleAddOutput(event, handle) {\n",
              "    const output_area = handle.output_area;\n",
              "    const output = handle.output;\n",
              "\n",
              "    // limit handleAddOutput to display_data with EXEC_MIME_TYPE content only\n",
              "    if ((output.output_type != \"display_data\") || (!Object.prototype.hasOwnProperty.call(output.data, EXEC_MIME_TYPE))) {\n",
              "      return\n",
              "    }\n",
              "\n",
              "    const toinsert = output_area.element.find(\".\" + CLASS_NAME.split(' ')[0]);\n",
              "\n",
              "    if (output.metadata[EXEC_MIME_TYPE][\"id\"] !== undefined) {\n",
              "      toinsert[toinsert.length - 1].firstChild.textContent = output.data[JS_MIME_TYPE];\n",
              "      // store reference to embed id on output_area\n",
              "      output_area._bokeh_element_id = output.metadata[EXEC_MIME_TYPE][\"id\"];\n",
              "    }\n",
              "    if (output.metadata[EXEC_MIME_TYPE][\"server_id\"] !== undefined) {\n",
              "      const bk_div = document.createElement(\"div\");\n",
              "      bk_div.innerHTML = output.data[HTML_MIME_TYPE];\n",
              "      const script_attrs = bk_div.children[0].attributes;\n",
              "      for (let i = 0; i < script_attrs.length; i++) {\n",
              "        toinsert[toinsert.length - 1].firstChild.setAttribute(script_attrs[i].name, script_attrs[i].value);\n",
              "        toinsert[toinsert.length - 1].firstChild.textContent = bk_div.children[0].textContent\n",
              "      }\n",
              "      // store reference to server id on output_area\n",
              "      output_area._bokeh_server_id = output.metadata[EXEC_MIME_TYPE][\"server_id\"];\n",
              "    }\n",
              "  }\n",
              "\n",
              "  function register_renderer(events, OutputArea) {\n",
              "\n",
              "    function append_mime(data, metadata, element) {\n",
              "      // create a DOM node to render to\n",
              "      const toinsert = this.create_output_subarea(\n",
              "        metadata,\n",
              "        CLASS_NAME,\n",
              "        EXEC_MIME_TYPE\n",
              "      );\n",
              "      this.keyboard_manager.register_events(toinsert);\n",
              "      // Render to node\n",
              "      const props = {data: data, metadata: metadata[EXEC_MIME_TYPE]};\n",
              "      render(props, toinsert[toinsert.length - 1]);\n",
              "      element.append(toinsert);\n",
              "      return toinsert\n",
              "    }\n",
              "\n",
              "    /* Handle when an output is cleared or removed */\n",
              "    events.on('clear_output.CodeCell', handleClearOutput);\n",
              "    events.on('delete.Cell', handleClearOutput);\n",
              "\n",
              "    /* Handle when a new output is added */\n",
              "    events.on('output_added.OutputArea', handleAddOutput);\n",
              "\n",
              "    /**\n",
              "     * Register the mime type and append_mime function with output_area\n",
              "     */\n",
              "    OutputArea.prototype.register_mime_type(EXEC_MIME_TYPE, append_mime, {\n",
              "      /* Is output safe? */\n",
              "      safe: true,\n",
              "      /* Index of renderer in `output_area.display_order` */\n",
              "      index: 0\n",
              "    });\n",
              "  }\n",
              "\n",
              "  // register the mime type if in Jupyter Notebook environment and previously unregistered\n",
              "  if (root.Jupyter !== undefined) {\n",
              "    const events = require('base/js/events');\n",
              "    const OutputArea = require('notebook/js/outputarea').OutputArea;\n",
              "\n",
              "    if (OutputArea.prototype.mime_types().indexOf(EXEC_MIME_TYPE) == -1) {\n",
              "      register_renderer(events, OutputArea);\n",
              "    }\n",
              "  }\n",
              "  if (typeof (root._bokeh_timeout) === \"undefined\" || force === true) {\n",
              "    root._bokeh_timeout = Date.now() + 5000;\n",
              "    root._bokeh_failed_load = false;\n",
              "  }\n",
              "\n",
              "  const NB_LOAD_WARNING = {'data': {'text/html':\n",
              "     \"<div style='background-color: #fdd'>\\n\"+\n",
              "     \"<p>\\n\"+\n",
              "     \"BokehJS does not appear to have successfully loaded. If loading BokehJS from CDN, this \\n\"+\n",
              "     \"may be due to a slow or bad network connection. Possible fixes:\\n\"+\n",
              "     \"</p>\\n\"+\n",
              "     \"<ul>\\n\"+\n",
              "     \"<li>re-rerun `output_notebook()` to attempt to load from CDN again, or</li>\\n\"+\n",
              "     \"<li>use INLINE resources instead, as so:</li>\\n\"+\n",
              "     \"</ul>\\n\"+\n",
              "     \"<code>\\n\"+\n",
              "     \"from bokeh.resources import INLINE\\n\"+\n",
              "     \"output_notebook(resources=INLINE)\\n\"+\n",
              "     \"</code>\\n\"+\n",
              "     \"</div>\"}};\n",
              "\n",
              "  function display_loaded(error = null) {\n",
              "    const el = document.getElementById(null);\n",
              "    if (el != null) {\n",
              "      const html = (() => {\n",
              "        if (typeof root.Bokeh === \"undefined\") {\n",
              "          if (error == null) {\n",
              "            return \"BokehJS is loading ...\";\n",
              "          } else {\n",
              "            return \"BokehJS failed to load.\";\n",
              "          }\n",
              "        } else {\n",
              "          const prefix = `BokehJS ${root.Bokeh.version}`;\n",
              "          if (error == null) {\n",
              "            return `${prefix} successfully loaded.`;\n",
              "          } else {\n",
              "            return `${prefix} <b>encountered errors</b> while loading and may not function as expected.`;\n",
              "          }\n",
              "        }\n",
              "      })();\n",
              "      el.innerHTML = html;\n",
              "\n",
              "      if (error != null) {\n",
              "        const wrapper = document.createElement(\"div\");\n",
              "        wrapper.style.overflow = \"auto\";\n",
              "        wrapper.style.height = \"5em\";\n",
              "        wrapper.style.resize = \"vertical\";\n",
              "        const content = document.createElement(\"div\");\n",
              "        content.style.fontFamily = \"monospace\";\n",
              "        content.style.whiteSpace = \"pre-wrap\";\n",
              "        content.style.backgroundColor = \"rgb(255, 221, 221)\";\n",
              "        content.textContent = error.stack ?? error.toString();\n",
              "        wrapper.append(content);\n",
              "        el.append(wrapper);\n",
              "      }\n",
              "    } else if (Date.now() < root._bokeh_timeout) {\n",
              "      setTimeout(() => display_loaded(error), 100);\n",
              "    }\n",
              "  }\n",
              "\n",
              "  function run_callbacks() {\n",
              "    try {\n",
              "      root._bokeh_onload_callbacks.forEach(function(callback) {\n",
              "        if (callback != null)\n",
              "          callback();\n",
              "      });\n",
              "    } finally {\n",
              "      delete root._bokeh_onload_callbacks\n",
              "    }\n",
              "    console.debug(\"Bokeh: all callbacks have finished\");\n",
              "  }\n",
              "\n",
              "  function load_libs(css_urls, js_urls, callback) {\n",
              "    if (css_urls == null) css_urls = [];\n",
              "    if (js_urls == null) js_urls = [];\n",
              "\n",
              "    root._bokeh_onload_callbacks.push(callback);\n",
              "    if (root._bokeh_is_loading > 0) {\n",
              "      console.debug(\"Bokeh: BokehJS is being loaded, scheduling callback at\", now());\n",
              "      return null;\n",
              "    }\n",
              "    if (js_urls == null || js_urls.length === 0) {\n",
              "      run_callbacks();\n",
              "      return null;\n",
              "    }\n",
              "    console.debug(\"Bokeh: BokehJS not loaded, scheduling load and callback at\", now());\n",
              "    root._bokeh_is_loading = css_urls.length + js_urls.length;\n",
              "\n",
              "    function on_load() {\n",
              "      root._bokeh_is_loading--;\n",
              "      if (root._bokeh_is_loading === 0) {\n",
              "        console.debug(\"Bokeh: all BokehJS libraries/stylesheets loaded\");\n",
              "        run_callbacks()\n",
              "      }\n",
              "    }\n",
              "\n",
              "    function on_error(url) {\n",
              "      console.error(\"failed to load \" + url);\n",
              "    }\n",
              "\n",
              "    for (let i = 0; i < css_urls.length; i++) {\n",
              "      const url = css_urls[i];\n",
              "      const element = document.createElement(\"link\");\n",
              "      element.onload = on_load;\n",
              "      element.onerror = on_error.bind(null, url);\n",
              "      element.rel = \"stylesheet\";\n",
              "      element.type = \"text/css\";\n",
              "      element.href = url;\n",
              "      console.debug(\"Bokeh: injecting link tag for BokehJS stylesheet: \", url);\n",
              "      document.body.appendChild(element);\n",
              "    }\n",
              "\n",
              "    for (let i = 0; i < js_urls.length; i++) {\n",
              "      const url = js_urls[i];\n",
              "      const element = document.createElement('script');\n",
              "      element.onload = on_load;\n",
              "      element.onerror = on_error.bind(null, url);\n",
              "      element.async = false;\n",
              "      element.src = url;\n",
              "      console.debug(\"Bokeh: injecting script tag for BokehJS library: \", url);\n",
              "      document.head.appendChild(element);\n",
              "    }\n",
              "  };\n",
              "\n",
              "  function inject_raw_css(css) {\n",
              "    const element = document.createElement(\"style\");\n",
              "    element.appendChild(document.createTextNode(css));\n",
              "    document.body.appendChild(element);\n",
              "  }\n",
              "\n",
              "  const js_urls = [\"https://cdn.bokeh.org/bokeh/release/bokeh-3.7.3.min.js\", \"https://cdn.bokeh.org/bokeh/release/bokeh-gl-3.7.3.min.js\", \"https://cdn.bokeh.org/bokeh/release/bokeh-widgets-3.7.3.min.js\", \"https://cdn.bokeh.org/bokeh/release/bokeh-tables-3.7.3.min.js\", \"https://cdn.bokeh.org/bokeh/release/bokeh-mathjax-3.7.3.min.js\"];\n",
              "  const css_urls = [];\n",
              "\n",
              "  const inline_js = [    function(Bokeh) {\n",
              "      Bokeh.set_log_level(\"info\");\n",
              "    },\n",
              "function(Bokeh) {\n",
              "    }\n",
              "  ];\n",
              "\n",
              "  function run_inline_js() {\n",
              "    if (root.Bokeh !== undefined || force === true) {\n",
              "      try {\n",
              "            for (let i = 0; i < inline_js.length; i++) {\n",
              "      inline_js[i].call(root, root.Bokeh);\n",
              "    }\n",
              "\n",
              "      } catch (error) {throw error;\n",
              "      }} else if (Date.now() < root._bokeh_timeout) {\n",
              "      setTimeout(run_inline_js, 100);\n",
              "    } else if (!root._bokeh_failed_load) {\n",
              "      console.log(\"Bokeh: BokehJS failed to load within specified timeout.\");\n",
              "      root._bokeh_failed_load = true;\n",
              "    } else if (force !== true) {\n",
              "      const cell = $(document.getElementById(null)).parents('.cell').data().cell;\n",
              "      cell.output_area.append_execute_result(NB_LOAD_WARNING)\n",
              "    }\n",
              "  }\n",
              "\n",
              "  if (root._bokeh_is_loading === 0) {\n",
              "    console.debug(\"Bokeh: BokehJS loaded, going straight to plotting\");\n",
              "    run_inline_js();\n",
              "  } else {\n",
              "    load_libs(css_urls, js_urls, function() {\n",
              "      console.debug(\"Bokeh: BokehJS plotting callback run at\", now());\n",
              "      run_inline_js();\n",
              "    });\n",
              "  }\n",
              "}(window));"
            ],
            "application/vnd.bokehjs_load.v0+json": "'use strict';\n(function(root) {\n  function now() {\n    return new Date();\n  }\n\n  const force = true;\n\n  if (typeof root._bokeh_onload_callbacks === \"undefined\" || force === true) {\n    root._bokeh_onload_callbacks = [];\n    root._bokeh_is_loading = undefined;\n  }\n\n\n  if (typeof (root._bokeh_timeout) === \"undefined\" || force === true) {\n    root._bokeh_timeout = Date.now() + 5000;\n    root._bokeh_failed_load = false;\n  }\n\n  const NB_LOAD_WARNING = {'data': {'text/html':\n     \"<div style='background-color: #fdd'>\\n\"+\n     \"<p>\\n\"+\n     \"BokehJS does not appear to have successfully loaded. If loading BokehJS from CDN, this \\n\"+\n     \"may be due to a slow or bad network connection. Possible fixes:\\n\"+\n     \"</p>\\n\"+\n     \"<ul>\\n\"+\n     \"<li>re-rerun `output_notebook()` to attempt to load from CDN again, or</li>\\n\"+\n     \"<li>use INLINE resources instead, as so:</li>\\n\"+\n     \"</ul>\\n\"+\n     \"<code>\\n\"+\n     \"from bokeh.resources import INLINE\\n\"+\n     \"output_notebook(resources=INLINE)\\n\"+\n     \"</code>\\n\"+\n     \"</div>\"}};\n\n  function display_loaded(error = null) {\n    const el = document.getElementById(null);\n    if (el != null) {\n      const html = (() => {\n        if (typeof root.Bokeh === \"undefined\") {\n          if (error == null) {\n            return \"BokehJS is loading ...\";\n          } else {\n            return \"BokehJS failed to load.\";\n          }\n        } else {\n          const prefix = `BokehJS ${root.Bokeh.version}`;\n          if (error == null) {\n            return `${prefix} successfully loaded.`;\n          } else {\n            return `${prefix} <b>encountered errors</b> while loading and may not function as expected.`;\n          }\n        }\n      })();\n      el.innerHTML = html;\n\n      if (error != null) {\n        const wrapper = document.createElement(\"div\");\n        wrapper.style.overflow = \"auto\";\n        wrapper.style.height = \"5em\";\n        wrapper.style.resize = \"vertical\";\n        const content = document.createElement(\"div\");\n        content.style.fontFamily = \"monospace\";\n        content.style.whiteSpace = \"pre-wrap\";\n        content.style.backgroundColor = \"rgb(255, 221, 221)\";\n        content.textContent = error.stack ?? error.toString();\n        wrapper.append(content);\n        el.append(wrapper);\n      }\n    } else if (Date.now() < root._bokeh_timeout) {\n      setTimeout(() => display_loaded(error), 100);\n    }\n  }\n\n  function run_callbacks() {\n    try {\n      root._bokeh_onload_callbacks.forEach(function(callback) {\n        if (callback != null)\n          callback();\n      });\n    } finally {\n      delete root._bokeh_onload_callbacks\n    }\n    console.debug(\"Bokeh: all callbacks have finished\");\n  }\n\n  function load_libs(css_urls, js_urls, callback) {\n    if (css_urls == null) css_urls = [];\n    if (js_urls == null) js_urls = [];\n\n    root._bokeh_onload_callbacks.push(callback);\n    if (root._bokeh_is_loading > 0) {\n      console.debug(\"Bokeh: BokehJS is being loaded, scheduling callback at\", now());\n      return null;\n    }\n    if (js_urls == null || js_urls.length === 0) {\n      run_callbacks();\n      return null;\n    }\n    console.debug(\"Bokeh: BokehJS not loaded, scheduling load and callback at\", now());\n    root._bokeh_is_loading = css_urls.length + js_urls.length;\n\n    function on_load() {\n      root._bokeh_is_loading--;\n      if (root._bokeh_is_loading === 0) {\n        console.debug(\"Bokeh: all BokehJS libraries/stylesheets loaded\");\n        run_callbacks()\n      }\n    }\n\n    function on_error(url) {\n      console.error(\"failed to load \" + url);\n    }\n\n    for (let i = 0; i < css_urls.length; i++) {\n      const url = css_urls[i];\n      const element = document.createElement(\"link\");\n      element.onload = on_load;\n      element.onerror = on_error.bind(null, url);\n      element.rel = \"stylesheet\";\n      element.type = \"text/css\";\n      element.href = url;\n      console.debug(\"Bokeh: injecting link tag for BokehJS stylesheet: \", url);\n      document.body.appendChild(element);\n    }\n\n    for (let i = 0; i < js_urls.length; i++) {\n      const url = js_urls[i];\n      const element = document.createElement('script');\n      element.onload = on_load;\n      element.onerror = on_error.bind(null, url);\n      element.async = false;\n      element.src = url;\n      console.debug(\"Bokeh: injecting script tag for BokehJS library: \", url);\n      document.head.appendChild(element);\n    }\n  };\n\n  function inject_raw_css(css) {\n    const element = document.createElement(\"style\");\n    element.appendChild(document.createTextNode(css));\n    document.body.appendChild(element);\n  }\n\n  const js_urls = [\"https://cdn.bokeh.org/bokeh/release/bokeh-3.7.3.min.js\", \"https://cdn.bokeh.org/bokeh/release/bokeh-gl-3.7.3.min.js\", \"https://cdn.bokeh.org/bokeh/release/bokeh-widgets-3.7.3.min.js\", \"https://cdn.bokeh.org/bokeh/release/bokeh-tables-3.7.3.min.js\", \"https://cdn.bokeh.org/bokeh/release/bokeh-mathjax-3.7.3.min.js\"];\n  const css_urls = [];\n\n  const inline_js = [    function(Bokeh) {\n      Bokeh.set_log_level(\"info\");\n    },\nfunction(Bokeh) {\n    }\n  ];\n\n  function run_inline_js() {\n    if (root.Bokeh !== undefined || force === true) {\n      try {\n            for (let i = 0; i < inline_js.length; i++) {\n      inline_js[i].call(root, root.Bokeh);\n    }\n\n      } catch (error) {throw error;\n      }} else if (Date.now() < root._bokeh_timeout) {\n      setTimeout(run_inline_js, 100);\n    } else if (!root._bokeh_failed_load) {\n      console.log(\"Bokeh: BokehJS failed to load within specified timeout.\");\n      root._bokeh_failed_load = true;\n    } else if (force !== true) {\n      const cell = $(document.getElementById(null)).parents('.cell').data().cell;\n      cell.output_area.append_execute_result(NB_LOAD_WARNING)\n    }\n  }\n\n  if (root._bokeh_is_loading === 0) {\n    console.debug(\"Bokeh: BokehJS loaded, going straight to plotting\");\n    run_inline_js();\n  } else {\n    load_libs(css_urls, js_urls, function() {\n      console.debug(\"Bokeh: BokehJS plotting callback run at\", now());\n      run_inline_js();\n    });\n  }\n}(window));"
          },
          "metadata": {}
        },
        {
          "output_type": "display_data",
          "data": {
            "text/html": [
              "\n",
              "  <div id=\"a49e8183-2c96-4a32-b7a9-c821d5315523\" data-root-id=\"p1003\" style=\"display: contents;\"></div>\n"
            ]
          },
          "metadata": {}
        },
        {
          "output_type": "display_data",
          "data": {
            "application/javascript": [
              "(function(root) {\n",
              "  function embed_document(root) {\n",
              "  const docs_json = {\"4567bf2a-9bc6-4cf0-804e-f4d224d20171\":{\"version\":\"3.7.3\",\"title\":\"Bokeh Application\",\"roots\":[{\"type\":\"object\",\"name\":\"Figure\",\"id\":\"p1003\",\"attributes\":{\"height\":350,\"x_range\":{\"type\":\"object\",\"name\":\"DataRange1d\",\"id\":\"p1004\"},\"y_range\":{\"type\":\"object\",\"name\":\"DataRange1d\",\"id\":\"p1005\"},\"x_scale\":{\"type\":\"object\",\"name\":\"LinearScale\",\"id\":\"p1013\"},\"y_scale\":{\"type\":\"object\",\"name\":\"LinearScale\",\"id\":\"p1014\"},\"title\":{\"type\":\"object\",\"name\":\"Title\",\"id\":\"p1006\",\"attributes\":{\"text\":\"Precio vs Ventas\"}},\"renderers\":[{\"type\":\"object\",\"name\":\"GlyphRenderer\",\"id\":\"p1044\",\"attributes\":{\"data_source\":{\"type\":\"object\",\"name\":\"ColumnDataSource\",\"id\":\"p1038\",\"attributes\":{\"selected\":{\"type\":\"object\",\"name\":\"Selection\",\"id\":\"p1039\",\"attributes\":{\"indices\":[],\"line_indices\":[]}},\"selection_policy\":{\"type\":\"object\",\"name\":\"UnionRenderers\",\"id\":\"p1040\"},\"data\":{\"type\":\"map\",\"entries\":[[\"x\",{\"type\":\"ndarray\",\"array\":{\"type\":\"bytes\",\"data\":\"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\"},\"shape\":[400],\"dtype\":\"int32\",\"order\":\"little\"}],[\"y\",{\"type\":\"ndarray\",\"array\":{\"type\":\"bytes\",\"data\":\"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\"},\"shape\":[400],\"dtype\":\"float64\",\"order\":\"little\"}]]}}},\"view\":{\"type\":\"object\",\"name\":\"CDSView\",\"id\":\"p1045\",\"attributes\":{\"filter\":{\"type\":\"object\",\"name\":\"AllIndices\",\"id\":\"p1046\"}}},\"glyph\":{\"type\":\"object\",\"name\":\"Scatter\",\"id\":\"p1041\",\"attributes\":{\"x\":{\"type\":\"field\",\"field\":\"x\"},\"y\":{\"type\":\"field\",\"field\":\"y\"},\"size\":{\"type\":\"value\",\"value\":6},\"line_color\":{\"type\":\"value\",\"value\":\"navy\"},\"line_alpha\":{\"type\":\"value\",\"value\":0.5},\"fill_color\":{\"type\":\"value\",\"value\":\"navy\"},\"fill_alpha\":{\"type\":\"value\",\"value\":0.5},\"hatch_color\":{\"type\":\"value\",\"value\":\"navy\"},\"hatch_alpha\":{\"type\":\"value\",\"value\":0.5}}},\"nonselection_glyph\":{\"type\":\"object\",\"name\":\"Scatter\",\"id\":\"p1042\",\"attributes\":{\"x\":{\"type\":\"field\",\"field\":\"x\"},\"y\":{\"type\":\"field\",\"field\":\"y\"},\"size\":{\"type\":\"value\",\"value\":6},\"line_color\":{\"type\":\"value\",\"value\":\"navy\"},\"line_alpha\":{\"type\":\"value\",\"value\":0.1},\"fill_color\":{\"type\":\"value\",\"value\":\"navy\"},\"fill_alpha\":{\"type\":\"value\",\"value\":0.1},\"hatch_color\":{\"type\":\"value\",\"value\":\"navy\"},\"hatch_alpha\":{\"type\":\"value\",\"value\":0.1}}},\"muted_glyph\":{\"type\":\"object\",\"name\":\"Scatter\",\"id\":\"p1043\",\"attributes\":{\"x\":{\"type\":\"field\",\"field\":\"x\"},\"y\":{\"type\":\"field\",\"field\":\"y\"},\"size\":{\"type\":\"value\",\"value\":6},\"line_color\":{\"type\":\"value\",\"value\":\"navy\"},\"line_alpha\":{\"type\":\"value\",\"value\":0.2},\"fill_color\":{\"type\":\"value\",\"value\":\"navy\"},\"fill_alpha\":{\"type\":\"value\",\"value\":0.2},\"hatch_color\":{\"type\":\"value\",\"value\":\"navy\"},\"hatch_alpha\":{\"type\":\"value\",\"value\":0.2}}}}}],\"toolbar\":{\"type\":\"object\",\"name\":\"Toolbar\",\"id\":\"p1012\",\"attributes\":{\"tools\":[{\"type\":\"object\",\"name\":\"PanTool\",\"id\":\"p1025\"},{\"type\":\"object\",\"name\":\"WheelZoomTool\",\"id\":\"p1026\",\"attributes\":{\"renderers\":\"auto\"}},{\"type\":\"object\",\"name\":\"BoxZoomTool\",\"id\":\"p1027\",\"attributes\":{\"dimensions\":\"both\",\"overlay\":{\"type\":\"object\",\"name\":\"BoxAnnotation\",\"id\":\"p1028\",\"attributes\":{\"syncable\":false,\"line_color\":\"black\",\"line_alpha\":1.0,\"line_width\":2,\"line_dash\":[4,4],\"fill_color\":\"lightgrey\",\"fill_alpha\":0.5,\"level\":\"overlay\",\"visible\":false,\"left\":{\"type\":\"number\",\"value\":\"nan\"},\"right\":{\"type\":\"number\",\"value\":\"nan\"},\"top\":{\"type\":\"number\",\"value\":\"nan\"},\"bottom\":{\"type\":\"number\",\"value\":\"nan\"},\"left_units\":\"canvas\",\"right_units\":\"canvas\",\"top_units\":\"canvas\",\"bottom_units\":\"canvas\",\"handles\":{\"type\":\"object\",\"name\":\"BoxInteractionHandles\",\"id\":\"p1034\",\"attributes\":{\"all\":{\"type\":\"object\",\"name\":\"AreaVisuals\",\"id\":\"p1033\",\"attributes\":{\"fill_color\":\"white\",\"hover_fill_color\":\"lightgray\"}}}}}}}},{\"type\":\"object\",\"name\":\"SaveTool\",\"id\":\"p1035\"},{\"type\":\"object\",\"name\":\"ResetTool\",\"id\":\"p1036\"},{\"type\":\"object\",\"name\":\"HelpTool\",\"id\":\"p1037\"}]}},\"left\":[{\"type\":\"object\",\"name\":\"LinearAxis\",\"id\":\"p1020\",\"attributes\":{\"ticker\":{\"type\":\"object\",\"name\":\"BasicTicker\",\"id\":\"p1021\",\"attributes\":{\"mantissas\":[1,2,5]}},\"formatter\":{\"type\":\"object\",\"name\":\"BasicTickFormatter\",\"id\":\"p1022\"},\"axis_label\":\"Ventas\",\"major_label_policy\":{\"type\":\"object\",\"name\":\"AllLabels\",\"id\":\"p1023\"}}}],\"below\":[{\"type\":\"object\",\"name\":\"LinearAxis\",\"id\":\"p1015\",\"attributes\":{\"ticker\":{\"type\":\"object\",\"name\":\"BasicTicker\",\"id\":\"p1016\",\"attributes\":{\"mantissas\":[1,2,5]}},\"formatter\":{\"type\":\"object\",\"name\":\"BasicTickFormatter\",\"id\":\"p1017\"},\"axis_label\":\"Precio\",\"major_label_policy\":{\"type\":\"object\",\"name\":\"AllLabels\",\"id\":\"p1018\"}}}],\"center\":[{\"type\":\"object\",\"name\":\"Grid\",\"id\":\"p1019\",\"attributes\":{\"axis\":{\"id\":\"p1015\"}}},{\"type\":\"object\",\"name\":\"Grid\",\"id\":\"p1024\",\"attributes\":{\"dimension\":1,\"axis\":{\"id\":\"p1020\"}}}]}}]}};\n",
              "  const render_items = [{\"docid\":\"4567bf2a-9bc6-4cf0-804e-f4d224d20171\",\"roots\":{\"p1003\":\"a49e8183-2c96-4a32-b7a9-c821d5315523\"},\"root_ids\":[\"p1003\"]}];\n",
              "  void root.Bokeh.embed.embed_items_notebook(docs_json, render_items);\n",
              "  }\n",
              "  if (root.Bokeh !== undefined) {\n",
              "    embed_document(root);\n",
              "  } else {\n",
              "    let attempts = 0;\n",
              "    const timer = setInterval(function(root) {\n",
              "      if (root.Bokeh !== undefined) {\n",
              "        clearInterval(timer);\n",
              "        embed_document(root);\n",
              "      } else {\n",
              "        attempts++;\n",
              "        if (attempts > 100) {\n",
              "          clearInterval(timer);\n",
              "          console.log(\"Bokeh: ERROR: Unable to run BokehJS code because BokehJS library is missing\");\n",
              "        }\n",
              "      }\n",
              "    }, 10, root)\n",
              "  }\n",
              "})(window);"
            ],
            "application/vnd.bokehjs_exec.v0+json": ""
          },
          "metadata": {
            "application/vnd.bokehjs_exec.v0+json": {
              "id": "p1003"
            }
          }
        }
      ]
    },
    {
      "cell_type": "code",
      "source": [
        "# 4. PREPROCESAMIENTO Y MODELADO\n",
        "# ===============================\n",
        "from sklearn.model_selection import train_test_split\n",
        "from sklearn.preprocessing import LabelEncoder, StandardScaler\n",
        "from sklearn.ensemble import RandomForestClassifier\n",
        "from sklearn.metrics import classification_report, confusion_matrix\n",
        "import pickle"
      ],
      "metadata": {
        "id": "kuEMPe_AUPbe"
      },
      "execution_count": 11,
      "outputs": []
    },
    {
      "cell_type": "code",
      "source": [
        "# Convertir a clasificación binaria\n",
        "df['HighSales'] = df['Sales'].apply(lambda x: 1 if x > 8 else 0)\n",
        "df.drop(columns=['Sales'], inplace=True)"
      ],
      "metadata": {
        "id": "6kUyDLwIWBym"
      },
      "execution_count": 12,
      "outputs": []
    },
    {
      "cell_type": "code",
      "source": [
        "# Codificar variables categóricas\n",
        "cat_cols = df.select_dtypes(include=['object']).columns\n",
        "le = LabelEncoder()\n",
        "for col in cat_cols:\n",
        "    df[col] = le.fit_transform(df[col])\n",
        "\n",
        "X = df.drop(columns=['HighSales'])\n",
        "y = df['HighSales']\n",
        "\n",
        "scaler = StandardScaler()\n",
        "X_scaled = scaler.fit_transform(X)\n",
        "\n",
        "X_train, X_test, y_train, y_test = train_test_split(X_scaled, y, test_size=0.3, random_state=42)\n",
        "\n",
        "model = RandomForestClassifier(n_estimators=100, random_state=42)\n",
        "model.fit(X_train, y_train)\n",
        "\n",
        "y_pred = model.predict(X_test)\n",
        "print(\"📋 Reporte de Clasificación:\\n\", classification_report(y_test, y_pred))\n",
        "print(\"📊 Matriz de Confusión:\\n\", confusion_matrix(y_test, y_pred))\n"
      ],
      "metadata": {
        "colab": {
          "base_uri": "https://localhost:8080/"
        },
        "id": "jSHHpdABWGqB",
        "outputId": "6db64bc8-10e4-465b-d59c-a2fb877cc42c"
      },
      "execution_count": 13,
      "outputs": [
        {
          "output_type": "stream",
          "name": "stdout",
          "text": [
            "📋 Reporte de Clasificación:\n",
            "               precision    recall  f1-score   support\n",
            "\n",
            "           0       0.75      0.95      0.84        64\n",
            "           1       0.92      0.64      0.76        56\n",
            "\n",
            "    accuracy                           0.81       120\n",
            "   macro avg       0.84      0.80      0.80       120\n",
            "weighted avg       0.83      0.81      0.80       120\n",
            "\n",
            "📊 Matriz de Confusión:\n",
            " [[61  3]\n",
            " [20 36]]\n"
          ]
        }
      ]
    },
    {
      "cell_type": "code",
      "source": [
        "# 5. GUARDAR MODELO\n",
        "# ===============================\n",
        "with open(\"carseats_model.pkl\", \"wb\") as f:\n",
        "    pickle.dump(model, f)\n",
        "\n",
        "print(\"Modelo guardado como carseats_model.pkl\")"
      ],
      "metadata": {
        "colab": {
          "base_uri": "https://localhost:8080/"
        },
        "id": "2zqJe9PoWKBa",
        "outputId": "8611208f-d1fe-4143-86d9-96f88fe1d49f"
      },
      "execution_count": 14,
      "outputs": [
        {
          "output_type": "stream",
          "name": "stdout",
          "text": [
            "Modelo guardado como carseats_model.pkl\n"
          ]
        }
      ]
    }
  ]
}